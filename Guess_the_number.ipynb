{
  "nbformat": 4,
  "nbformat_minor": 0,
  "metadata": {
    "colab": {
      "provenance": [],
      "authorship_tag": "ABX9TyPv+IJIc4Zf3M460s6PTGOU",
      "include_colab_link": true
    },
    "kernelspec": {
      "name": "python3",
      "display_name": "Python 3"
    },
    "language_info": {
      "name": "python"
    }
  },
  "cells": [
    {
      "cell_type": "markdown",
      "metadata": {
        "id": "view-in-github",
        "colab_type": "text"
      },
      "source": [
        "<a href=\"https://colab.research.google.com/github/pranjalsinha1205/Guess_the_Number/blob/main/Guess_the_number.ipynb\" target=\"_parent\"><img src=\"https://colab.research.google.com/assets/colab-badge.svg\" alt=\"Open In Colab\"/></a>"
      ]
    },
    {
      "cell_type": "code",
      "execution_count": 1,
      "metadata": {
        "id": "bNtpHj2HS9f-"
      },
      "outputs": [],
      "source": [
        "def guess():\n",
        "  print(\"Guess a number between 1 and 10\")\n",
        "  import random\n",
        "  n = random.randint(1,10)\n",
        "  while True:\n",
        "    try:\n",
        "      u = int(input(\"Your guess? \"))\n",
        "      if u not in range(11):\n",
        "        print(\"Your guess is out of range!\")\n",
        "      elif u > n:\n",
        "        print(\"Your guess is a bit too high!\")\n",
        "      elif u < n:\n",
        "        print(\"Your guess is a bit too low!\")\n",
        "      elif u == n:\n",
        "        return 'Ding ding ding! You are correct!'\n",
        "    except ValueError:\n",
        "      print(\"Only positive integers allowed!\")"
      ]
    },
    {
      "cell_type": "code",
      "source": [
        "guess()"
      ],
      "metadata": {
        "colab": {
          "base_uri": "https://localhost:8080/",
          "height": 244
        },
        "id": "N1zeGAK1VMj-",
        "outputId": "7cb1bde2-01a7-4832-adf5-a29df5db252e"
      },
      "execution_count": 4,
      "outputs": [
        {
          "name": "stdout",
          "output_type": "stream",
          "text": [
            "Guess a number between 1 and 10\n",
            "Your guess? l\n",
            "Only positive integers allowed!\n",
            "Your guess? 8\n",
            "Your guess is a bit too high!\n",
            "Your guess? 4\n",
            "Your guess is a bit too high!\n",
            "Your guess? 1\n",
            "Your guess is a bit too low!\n",
            "Your guess? 2\n",
            "Your guess is a bit too low!\n",
            "Your guess? 3\n"
          ]
        },
        {
          "output_type": "execute_result",
          "data": {
            "text/plain": [
              "'Ding ding ding! You are correct!'"
            ],
            "application/vnd.google.colaboratory.intrinsic+json": {
              "type": "string"
            }
          },
          "metadata": {},
          "execution_count": 4
        }
      ]
    }
  ]
}