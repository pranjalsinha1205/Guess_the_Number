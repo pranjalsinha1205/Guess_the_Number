{
  "nbformat": 4,
  "nbformat_minor": 0,
  "metadata": {
    "colab": {
      "provenance": [],
      "authorship_tag": "ABX9TyMJmLV9cg9OcnTItWMOe7hB",
      "include_colab_link": true
    },
    "kernelspec": {
      "name": "python3",
      "display_name": "Python 3"
    },
    "language_info": {
      "name": "python"
    }
  },
  "cells": [
    {
      "cell_type": "markdown",
      "metadata": {
        "id": "view-in-github",
        "colab_type": "text"
      },
      "source": [
        "<a href=\"https://colab.research.google.com/github/pranjalsinha1205/Guess_the_Number/blob/main/Guess_the_number.ipynb\" target=\"_parent\"><img src=\"https://colab.research.google.com/assets/colab-badge.svg\" alt=\"Open In Colab\"/></a>"
      ]
    },
    {
      "cell_type": "code",
      "execution_count": 17,
      "metadata": {
        "id": "bNtpHj2HS9f-"
      },
      "outputs": [],
      "source": [
        "def guess():\n",
        "  t = 0\n",
        "  print(\"Guess a number between 1 and 10\")\n",
        "  print('You only get three tries to guess\\n')  \n",
        "  import random\n",
        "  n = random.randint(1,10)\n",
        "  while True:\n",
        "    try:\n",
        "      if t!= 3:\n",
        "        u = int(input(\"Your guess? \"))\n",
        "        if u not in range(1,11):\n",
        "          t += 1\n",
        "          print(\"Your guess is out of range!\")\n",
        "        elif u > n:\n",
        "          t += 1\n",
        "          print(\"Your guess is a bit too high!\")\n",
        "        elif u < n:\n",
        "          t += 1\n",
        "          print(\"Your guess is a bit too low!\")\n",
        "        elif u == n:\n",
        "          t += 1\n",
        "          return 'Ding ding ding! You are correct!'\n",
        "      elif t == 3:\n",
        "        print(\"\\nYour 3 tries are over!\")\n",
        "        return 'The correct number is ' + str(n)\n",
        "    except ValueError:\n",
        "      print(\"Only positive integers allowed!\")"
      ]
    },
    {
      "cell_type": "code",
      "source": [
        "guess()"
      ],
      "metadata": {
        "colab": {
          "base_uri": "https://localhost:8080/",
          "height": 235
        },
        "id": "N1zeGAK1VMj-",
        "outputId": "d44df4d6-b3a4-4d49-b633-1f95a664470d"
      },
      "execution_count": 18,
      "outputs": [
        {
          "output_type": "stream",
          "name": "stdout",
          "text": [
            "Guess a number between 1 and 10\n",
            "You only get three tries to guess\n",
            "\n",
            "Your guess? 0\n",
            "Your guess is out of range!\n",
            "Your guess? 3\n",
            "Your guess is a bit too high!\n",
            "Your guess? 4\n",
            "Your guess is a bit too high!\n",
            "\n",
            "Your 3 tries are over!\n"
          ]
        },
        {
          "output_type": "execute_result",
          "data": {
            "text/plain": [
              "'The correct number is 2'"
            ],
            "application/vnd.google.colaboratory.intrinsic+json": {
              "type": "string"
            }
          },
          "metadata": {},
          "execution_count": 18
        }
      ]
    }
  ]
}