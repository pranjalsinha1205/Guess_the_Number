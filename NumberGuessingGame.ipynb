{
  "nbformat": 4,
  "nbformat_minor": 0,
  "metadata": {
    "colab": {
      "provenance": [],
      "authorship_tag": "ABX9TyMftwoGcNuXWmS0eUVLoZaz",
      "include_colab_link": true
    },
    "kernelspec": {
      "name": "python3",
      "display_name": "Python 3"
    },
    "language_info": {
      "name": "python"
    }
  },
  "cells": [
    {
      "cell_type": "markdown",
      "metadata": {
        "id": "view-in-github",
        "colab_type": "text"
      },
      "source": [
        "<a href=\"https://colab.research.google.com/github/pranjalsinha1205/Guess_the_Number/blob/main/NumberGuessingGame.ipynb\" target=\"_parent\"><img src=\"https://colab.research.google.com/assets/colab-badge.svg\" alt=\"Open In Colab\"/></a>"
      ]
    },
    {
      "cell_type": "code",
      "execution_count": 2,
      "metadata": {
        "id": "bNtpHj2HS9f-",
        "colab": {
          "base_uri": "https://localhost:8080/",
          "height": 576
        },
        "outputId": "86da299f-3e3d-4536-8211-15365873d42e"
      },
      "outputs": [
        {
          "output_type": "display_data",
          "data": {
            "text/plain": [
              "\u001b[1;3;4;34mWelcome to the Number Guessing Game\u001b[0m\n"
            ],
            "text/html": [
              "<pre style=\"white-space:pre;overflow-x:auto;line-height:normal;font-family:Menlo,'DejaVu Sans Mono',consolas,'Courier New',monospace\"><span style=\"color: #000080; text-decoration-color: #000080; font-weight: bold; font-style: italic; text-decoration: underline\">Welcome to the Number Guessing Game</span>\n",
              "</pre>\n"
            ]
          },
          "metadata": {}
        },
        {
          "output_type": "display_data",
          "data": {
            "text/plain": [
              "\u001b[1mWhat level do you wish to play at?\u001b[0m\n",
              "\n",
              "\u001b[1m        \u001b[0m\u001b[1;3;34m➡️ Beginner\u001b[0m\n",
              "\n",
              "\u001b[1;3;34m        \u001b[0m\u001b[1;3;34m➡️ Intermediate\u001b[0m\n",
              "\n",
              "\u001b[1;3;34m        \u001b[0m\u001b[1;3;34m➡️ Advanced\u001b[0m\n"
            ],
            "text/html": [
              "<pre style=\"white-space:pre;overflow-x:auto;line-height:normal;font-family:Menlo,'DejaVu Sans Mono',consolas,'Courier New',monospace\"><span style=\"font-weight: bold\">What level do you wish to play at?</span>\n",
              "\n",
              "<span style=\"font-weight: bold\">        </span><span style=\"color: #000080; text-decoration-color: #000080; font-weight: bold; font-style: italic\">➡️ Beginner</span>\n",
              "\n",
              "<span style=\"color: #000080; text-decoration-color: #000080; font-weight: bold; font-style: italic\">        ➡️ Intermediate</span>\n",
              "\n",
              "<span style=\"color: #000080; text-decoration-color: #000080; font-weight: bold; font-style: italic\">        ➡️ Advanced</span>\n",
              "</pre>\n"
            ]
          },
          "metadata": {}
        },
        {
          "output_type": "display_data",
          "data": {
            "text/plain": [
              "\u001b[1;3mChoose \u001b[0m\u001b[1;3;34m1\u001b[0m\u001b[1;3;34m \u001b[0m\u001b[1;3;30mfor Beginner.\u001b[0m\n",
              "\u001b[1;3;30mChoose \u001b[0m\u001b[1;3;34m2\u001b[0m\u001b[1;3;34m \u001b[0m\u001b[1;3;30mfor Intermediate.\u001b[0m\n",
              "\u001b[1;3;30mChoose \u001b[0m\u001b[1;3;34m3\u001b[0m\u001b[1;3;34m \u001b[0m\u001b[1;3;30mfor Advanced.\u001b[0m\n"
            ],
            "text/html": [
              "<pre style=\"white-space:pre;overflow-x:auto;line-height:normal;font-family:Menlo,'DejaVu Sans Mono',consolas,'Courier New',monospace\"><span style=\"font-weight: bold; font-style: italic\">Choose </span><span style=\"color: #000080; text-decoration-color: #000080; font-weight: bold; font-style: italic\">1 </span><span style=\"color: #000000; text-decoration-color: #000000; font-weight: bold; font-style: italic\">for Beginner.</span>\n",
              "<span style=\"color: #000000; text-decoration-color: #000000; font-weight: bold; font-style: italic\">Choose </span><span style=\"color: #000080; text-decoration-color: #000080; font-weight: bold; font-style: italic\">2 </span><span style=\"color: #000000; text-decoration-color: #000000; font-weight: bold; font-style: italic\">for Intermediate.</span>\n",
              "<span style=\"color: #000000; text-decoration-color: #000000; font-weight: bold; font-style: italic\">Choose </span><span style=\"color: #000080; text-decoration-color: #000080; font-weight: bold; font-style: italic\">3 </span><span style=\"color: #000000; text-decoration-color: #000000; font-weight: bold; font-style: italic\">for Advanced.</span>\n",
              "</pre>\n"
            ]
          },
          "metadata": {}
        },
        {
          "name": "stdout",
          "output_type": "stream",
          "text": [
            "\n",
            "Choose your level: 1\n"
          ]
        },
        {
          "output_type": "display_data",
          "data": {
            "text/plain": [
              "\u001b[1;3mYou have chosen the beginner level\u001b[0m\n"
            ],
            "text/html": [
              "<pre style=\"white-space:pre;overflow-x:auto;line-height:normal;font-family:Menlo,'DejaVu Sans Mono',consolas,'Courier New',monospace\"><span style=\"font-weight: bold; font-style: italic\">You have chosen the beginner level</span>\n",
              "</pre>\n"
            ]
          },
          "metadata": {}
        },
        {
          "output_type": "display_data",
          "data": {
            "text/plain": [
              "\n",
              "\u001b[1;3mGuess a number between \u001b[0m\u001b[1;3;34m1\u001b[0m\u001b[1;3;30m and \u001b[0m\u001b[1;3;34m10\u001b[0m\u001b[1;3;34m.\u001b[0m\n"
            ],
            "text/html": [
              "<pre style=\"white-space:pre;overflow-x:auto;line-height:normal;font-family:Menlo,'DejaVu Sans Mono',consolas,'Courier New',monospace\">\n",
              "<span style=\"font-weight: bold; font-style: italic\">Guess a number between </span><span style=\"color: #000080; text-decoration-color: #000080; font-weight: bold; font-style: italic\">1</span><span style=\"color: #000000; text-decoration-color: #000000; font-weight: bold; font-style: italic\"> and </span><span style=\"color: #000080; text-decoration-color: #000080; font-weight: bold; font-style: italic\">10.</span>\n",
              "</pre>\n"
            ]
          },
          "metadata": {}
        },
        {
          "output_type": "display_data",
          "data": {
            "text/plain": [
              "\u001b[1;3mYou only get three tries to guess.\u001b[0m\n"
            ],
            "text/html": [
              "<pre style=\"white-space:pre;overflow-x:auto;line-height:normal;font-family:Menlo,'DejaVu Sans Mono',consolas,'Courier New',monospace\"><span style=\"font-weight: bold; font-style: italic\">You only get three tries to guess.</span>\n",
              "</pre>\n"
            ]
          },
          "metadata": {}
        },
        {
          "output_type": "display_data",
          "data": {
            "text/plain": [
              "\u001b[1;3mThe maximum score is \u001b[0m\u001b[1;3;34m100\u001b[0m\u001b[1;3;34m.\u001b[0m\n",
              "\n",
              "\u001b[1;3;30mThe minimum score is \u001b[0m\u001b[1;3;34m0\u001b[0m\u001b[1;3;34m.\u001b[0m\n",
              "\n"
            ],
            "text/html": [
              "<pre style=\"white-space:pre;overflow-x:auto;line-height:normal;font-family:Menlo,'DejaVu Sans Mono',consolas,'Courier New',monospace\"><span style=\"font-weight: bold; font-style: italic\">The maximum score is </span><span style=\"color: #000080; text-decoration-color: #000080; font-weight: bold; font-style: italic\">100.</span>\n",
              "\n",
              "<span style=\"color: #000000; text-decoration-color: #000000; font-weight: bold; font-style: italic\">The minimum score is </span><span style=\"color: #000080; text-decoration-color: #000080; font-weight: bold; font-style: italic\">0.</span>\n",
              "\n",
              "</pre>\n"
            ]
          },
          "metadata": {}
        },
        {
          "name": "stdout",
          "output_type": "stream",
          "text": [
            "Your guess? 5\n"
          ]
        },
        {
          "output_type": "display_data",
          "data": {
            "text/plain": [
              "\u001b[1;3mYour guess is a bit too \u001b[0m\u001b[1;3;34mlow!\u001b[0m\n"
            ],
            "text/html": [
              "<pre style=\"white-space:pre;overflow-x:auto;line-height:normal;font-family:Menlo,'DejaVu Sans Mono',consolas,'Courier New',monospace\"><span style=\"font-weight: bold; font-style: italic\">Your guess is a bit too </span><span style=\"color: #000080; text-decoration-color: #000080; font-weight: bold; font-style: italic\">low!</span>\n",
              "</pre>\n"
            ]
          },
          "metadata": {}
        },
        {
          "name": "stdout",
          "output_type": "stream",
          "text": [
            "Your guess? 7\n"
          ]
        },
        {
          "output_type": "display_data",
          "data": {
            "text/plain": [
              "\u001b[1;3mYour guess is a bit too \u001b[0m\u001b[1;3;34mlow!\u001b[0m\n"
            ],
            "text/html": [
              "<pre style=\"white-space:pre;overflow-x:auto;line-height:normal;font-family:Menlo,'DejaVu Sans Mono',consolas,'Courier New',monospace\"><span style=\"font-weight: bold; font-style: italic\">Your guess is a bit too </span><span style=\"color: #000080; text-decoration-color: #000080; font-weight: bold; font-style: italic\">low!</span>\n",
              "</pre>\n"
            ]
          },
          "metadata": {}
        },
        {
          "name": "stdout",
          "output_type": "stream",
          "text": [
            "Your guess? 9\n"
          ]
        },
        {
          "output_type": "display_data",
          "data": {
            "text/plain": [
              "\u001b[1;3mYour guess is a bit too \u001b[0m\u001b[1;3;34mhigh!\u001b[0m\n"
            ],
            "text/html": [
              "<pre style=\"white-space:pre;overflow-x:auto;line-height:normal;font-family:Menlo,'DejaVu Sans Mono',consolas,'Courier New',monospace\"><span style=\"font-weight: bold; font-style: italic\">Your guess is a bit too </span><span style=\"color: #000080; text-decoration-color: #000080; font-weight: bold; font-style: italic\">high!</span>\n",
              "</pre>\n"
            ]
          },
          "metadata": {}
        },
        {
          "output_type": "display_data",
          "data": {
            "text/plain": [
              "\n",
              "\u001b[1;3mYour \u001b[0m\u001b[1;3;36m3\u001b[0m\u001b[1;3m tries are over!\u001b[0m\n",
              "\n",
              "\u001b[1mThe correct number is \u001b[0m\u001b[1;34m8\u001b[0m\n"
            ],
            "text/html": [
              "<pre style=\"white-space:pre;overflow-x:auto;line-height:normal;font-family:Menlo,'DejaVu Sans Mono',consolas,'Courier New',monospace\">\n",
              "<span style=\"font-weight: bold; font-style: italic\">Your </span><span style=\"color: #008080; text-decoration-color: #008080; font-weight: bold; font-style: italic\">3</span><span style=\"font-weight: bold; font-style: italic\"> tries are over!</span>\n",
              "\n",
              "<span style=\"font-weight: bold\">The correct number is </span><span style=\"color: #000080; text-decoration-color: #000080; font-weight: bold\">8</span>\n",
              "</pre>\n"
            ]
          },
          "metadata": {}
        },
        {
          "output_type": "display_data",
          "data": {
            "text/plain": [
              "\u001b[1;3mYour score is \u001b[0m\u001b[1;3;34m0\u001b[0m\u001b[1;3;34m.\u001b[0m\n"
            ],
            "text/html": [
              "<pre style=\"white-space:pre;overflow-x:auto;line-height:normal;font-family:Menlo,'DejaVu Sans Mono',consolas,'Courier New',monospace\"><span style=\"font-weight: bold; font-style: italic\">Your score is </span><span style=\"color: #000080; text-decoration-color: #000080; font-weight: bold; font-style: italic\">0.</span>\n",
              "</pre>\n"
            ]
          },
          "metadata": {}
        },
        {
          "name": "stdout",
          "output_type": "stream",
          "text": [
            "Do you want to play again? (yes/no): n\n"
          ]
        },
        {
          "output_type": "display_data",
          "data": {
            "text/plain": [
              "\n",
              "\n",
              "\u001b[1;3;4mPrevious result:\u001b[0m\n"
            ],
            "text/html": [
              "<pre style=\"white-space:pre;overflow-x:auto;line-height:normal;font-family:Menlo,'DejaVu Sans Mono',consolas,'Courier New',monospace\">\n",
              "\n",
              "<span style=\"font-weight: bold; font-style: italic; text-decoration: underline\">Previous result:</span>\n",
              "</pre>\n"
            ]
          },
          "metadata": {}
        },
        {
          "output_type": "display_data",
          "data": {
            "text/plain": [
              "\n",
              "\u001b[1;3mYour score is \u001b[0m\u001b[1;3;34m0\u001b[0m\u001b[1;3;34m.\u001b[0m\n"
            ],
            "text/html": [
              "<pre style=\"white-space:pre;overflow-x:auto;line-height:normal;font-family:Menlo,'DejaVu Sans Mono',consolas,'Courier New',monospace\">\n",
              "<span style=\"font-weight: bold; font-style: italic\">Your score is </span><span style=\"color: #000080; text-decoration-color: #000080; font-weight: bold; font-style: italic\">0.</span>\n",
              "</pre>\n"
            ]
          },
          "metadata": {}
        }
      ],
      "source": [
        "import random  #importing the random module\n",
        "from rich import print #this method is to print the formatted text\n",
        "\n",
        "def choose_level():\n",
        "    \"\"\"\n",
        "    Prompts the user to choose a game level and returns the maximum number for the guessing range.\n",
        "\n",
        "    Returns:\n",
        "        int: The maximum number for the guessing range or -1 for invalid input.\n",
        "    \"\"\"\n",
        "    print(\"[bold][italic]Choose [blue]1 [black]for Beginner.\\nChoose [blue]2 [black]for Intermediate.\\nChoose [blue]3 [black]for Advanced.[/]\")\n",
        "    choice = input(\"\\nChoose your level: \")\n",
        "    if choice.isdigit():\n",
        "        choice = int(choice)\n",
        "        if choice == 1:     #when the level is beginner, the range is 1 to 10\n",
        "            print(\"[bold][italic]You have chosen the beginner level[/]\")\n",
        "            return 10\n",
        "        elif choice == 2:   #when the level is intermediate, the range is 1 to 20\n",
        "            print(\"[bold][italic]You have chosen the intermediate level[/]\")\n",
        "            return 15\n",
        "        elif choice == 3:   #when the level is advanced, the range is 1 to 30\n",
        "            print(\"[bold][italic]You have chosen the advanced level[/]\")\n",
        "            return 30\n",
        "        else:               #when the level is not between 1 to 3, then it is out of range, hence invalid\n",
        "            return -1\n",
        "    elif not choice.isdigit():      #handling error in case someone enters the wrong data type\n",
        "        return -1\n",
        "#this function is used to choose the level at which the user wishes to play\n",
        "#it takes no arguments but returns an integer\n",
        "#if the user chooses 1, it means the level is beginner and he will get to guess from a range of 1 to 10\n",
        "#if the user chooses 2, it means the level is intermediate and he will get to guess from a range of 1 to 15\n",
        "#if the user chooses 3, it means the level is advanced and he will get to guess from a range of 1 to 30\n",
        "#if the user chooses any other number, then the input is invalid and the program terminates\n",
        "#if the user chooses any other data type than integer, then program terminates with an Invalid Input message.\n",
        "\n",
        "deduction = 10 #deduction in score after each succesive try\n",
        "\n",
        "def game():\n",
        "    \"\"\"\n",
        "    Plays the guessing game based on the selected level.\n",
        "\n",
        "    Returns:\n",
        "        str: The game result message.\n",
        "    \"\"\"\n",
        "    tries = 0  # Initialize the number of tries\n",
        "    score = 100  # Initialize the player's score\n",
        "    max_num = choose_level()  # Get the maximum number for the guessing range\n",
        "\n",
        "    if max_num == -1:         #for invalid level input\n",
        "        return \"[bold][italic]Wrong input. Only numbers [red]1, 2, [black]and [red]3 [black]are allowed[/]\"\n",
        "\n",
        "    # Generate a random number within the selected range\n",
        "    secret_number = random.randint(1, max_num)\n",
        "\n",
        "    print(f\"\\n[bold][italic]Guess a number between [blue]1[black] and [blue]{max_num}.[/]\")\n",
        "    print('[bold][italic]You only get three tries to guess.[/]')\n",
        "    print('[bold][italic]The maximum score is [blue]100.\\n\\n[black]The minimum score is [blue]0.[/]\\n')\n",
        "\n",
        "    while True:\n",
        "        try:\n",
        "            if tries != 3:   #you get only three tries\n",
        "                             #so the game continues only when number of tries is less than 3\n",
        "                             #the number of tries starts from 0.\n",
        "                user_guess = int(input(\"Your guess? \"))\n",
        "\n",
        "                if user_guess < 1 or user_guess > max_num:     #when the guess is out of range\n",
        "                    tries += 1\n",
        "                    score -= deduction\n",
        "                    print(\"[bold][italic]Your guess is [blue]out of range![/]\")\n",
        "                elif user_guess > secret_number:               #when the guess is greater than the number\n",
        "                    tries += 1\n",
        "                    score -= deduction\n",
        "                    print(\"[bold][italic]Your guess is a bit too [blue]high![/]\")\n",
        "                elif user_guess < secret_number:               #when the guess is lesser than the number\n",
        "                    tries += 1\n",
        "                    score -= deduction\n",
        "                    print(\"[bold][italic]Your guess is a bit too [blue]low![/]\")\n",
        "                elif user_guess == secret_number:              #when the guess is equal to the number\n",
        "                    tries += 1\n",
        "                    print(\"[bold][italic]Ding ding ding! You are correct![/]\")\n",
        "                    return f'[bold][italic]\\nYour score is [blue]{score}.[/]'\n",
        "                    #returns the score\n",
        "            elif tries == 3:    #the game ends when you reach the 3rd try\n",
        "                print(f\"\\n[bold][italic]Your 3 tries are over![/]\\n\\nThe correct number is [blue]{secret_number}[black]\")\n",
        "                return f'[bold][italic]Your score is [blue]{0}.[/]'\n",
        "        except ValueError:   #Exception handling to prevent user from inputting string or float\n",
        "            tries += 1\n",
        "            print(f\"[bold][italic]Only integers between[blue] 1[black] and [blue]{max_num}[black] are allowed.Try again\")\n",
        "#this is the main game logic\n",
        "#it takes no arguments\n",
        "#according to the level selected by the user, a number is selected by the computer according to the given condition\n",
        "#the user is then required to guess what the number that has been chosen by the computer is\n",
        "#the user is given 3 tries to correctly guess the number\n",
        "#if the user's guess is less than 1 or greater than the upper bound, then a message telling \"Guess out of bound\" is printed\n",
        "#if the user's guess is lower than the number chosen by the computer, the program informs the user by saying \"Your guess is too low\"\n",
        "#if the user's  guess is higher than the number chosen by the computer, the program informs the user by saying,\"Your guess is too high\"\n",
        "#if the user's guess is the same as the number, the program prints the message informing the user as well as the score and the program breaks out of the loop\n",
        "#the scores are based on the number of times user has taken to get his guess correct\n",
        "#(i)if the user guesses in the first try, then the score is 100\n",
        "#(ii)if the user takes two tries to guess it correctly, the score is 90\n",
        "#(iii)if the user takes three tries to guess, the score is 80\n",
        "#(iv)if the user still cannot guess it after 3 tries then the score is 0\n",
        "\n",
        "def play_game():\n",
        "    \"\"\"\n",
        "    Allows the player to start and play the number guessing game, with an option to restart.\n",
        "\n",
        "    Returns:\n",
        "        str: The result message of the last game played.\n",
        "    \"\"\"\n",
        "    while True:\n",
        "        print(\"[bold][italic][underline][blue]Welcome to the Number Guessing Game[/]\")\n",
        "        print(\"[bold]What level do you wish to play at?\\n\\n\\t[italic][blue]➡️ Beginner\\n\\n\\t[blue]➡️ Intermediate\\n\\n\\t[blue]➡️ Advanced[/]\")\n",
        "        game_result = game()\n",
        "        print(game_result)\n",
        "\n",
        "        # Ask the player if they want to play again\n",
        "        play_again = input(\"Do you want to play again? (yes/no): \").lower()\n",
        "        if play_again[0] != \"y\":\n",
        "            break\n",
        "    print(\"\\n\\n[bold][italic][underline]Previous result:\")\n",
        "    return f\"\\n{game_result}\"  # Return the result of the last game\n",
        "#this function takes no arguments\n",
        "#this function is used for playing the game\n",
        "\n",
        "# Start the game and print the result\n",
        "game_result = play_game()\n",
        "print(game_result)"
      ]
    },
    {
      "cell_type": "code",
      "source": [],
      "metadata": {
        "id": "TADN-9yV19hT"
      },
      "execution_count": null,
      "outputs": []
    }
  ]
}